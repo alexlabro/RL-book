{
 "cells": [
  {
   "cell_type": "markdown",
   "metadata": {},
   "source": [
    "## 2021 Problem 2"
   ]
  },
  {
   "cell_type": "markdown",
   "metadata": {},
   "source": [
    "#### 4)\n",
    "- Optimal Policy :\n",
    " \n",
    "We verify by first order condition that $$c^* = (1-\\beta^{1/\\gamma}).x = arg max_c [U(c) + \\beta . V^*(x-c)]$$\n",
    "With the optimal value obtained above.\n",
    "\n",
    "\n",
    " - Optimal value function : \n",
    " We verify that $$V^*(x) = U(c^*) + \\beta * V^*(x - c^*)$$"
   ]
  },
  {
   "cell_type": "code",
   "execution_count": null,
   "metadata": {},
   "outputs": [],
   "source": []
  }
 ],
 "metadata": {
  "kernelspec": {
   "display_name": "Python 3",
   "language": "python",
   "name": "python3"
  },
  "language_info": {
   "codemirror_mode": {
    "name": "ipython",
    "version": 3
   },
   "file_extension": ".py",
   "mimetype": "text/x-python",
   "name": "python",
   "nbconvert_exporter": "python",
   "pygments_lexer": "ipython3",
   "version": "3.8.3"
  }
 },
 "nbformat": 4,
 "nbformat_minor": 4
}
