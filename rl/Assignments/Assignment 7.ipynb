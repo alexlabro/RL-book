{
 "cells": [
  {
   "cell_type": "markdown",
   "metadata": {},
   "source": [
    "# Question 1 : Merton's portfolio for U = log\n",
    "\n",
    "#### Introduction and notations\n",
    "\n",
    "We consider the Merton's portfolio wealth $W_t$ such as $$dW_t = ((r+\\pi_t ·(\\mu−r))·W_t −ct)·dt+\\pi_t ·\\sigma·W_t ·dz_t$$\n",
    "\n",
    "We are looking to optimize $U(W_T) = log(W_T)$.\n",
    "We consider a finite horizon, with discount rate $\\rho \\geq 0$. \n",
    "\n",
    "The reward is $U(c_t)=log(c_t)$ for $t<T$ ; and the reward is $B(T)U(W_T) = \\epsilon + log(W_T)$ for t=T.\n",
    "\n",
    "We define the value function as $V_t^{\\pi,c}(W_t) = E_{\\pi,c}[\\int_t^T e^{-\\rho(s-t)}log(c_s)ds + e^{-\\rho(T-t)}B(T)log(W_T)/(t,W_t)]$\n",
    "\n",
    "We are thus trying to optimize $E_{\\pi,c}[\\int_t^T e^{-\\rho(s-t)}\\log(c_s)ds + e^{-\\rho(T-t)}B(T)\\log(W_T)/(t,W_t)]$ over $\\pi_t$ and $c_t$, for all $t \\leq T$.\n",
    "\n"
   ]
  },
  {
   "cell_type": "markdown",
   "metadata": {},
   "source": [
    "The HJB equation specializes here to : $$max_{\\pi_t,c_t} E_t[dV^*(t,Wt) + log(c_t)dt = \\rho V^*(t,W_t)dt$$\n",
    "\n",
    "Using Ito's lemma, we get the same equation as in (6.3), with $log(c_t)$ instead of $\\frac{c_t^{1-\\gamma}}{1-\\gamma}$\n",
    "\n",
    "The terminal condition is changed to $V^*(T,W_T) = \\epsilon log(W_T)$\n",
    "\n",
    "Taking the partial derivatives of $\\Phi$ with regards to $\\pi_t$ and $c_t$ we get :\n",
    "\n",
    "$$\\pi_t^* = \\frac{-\\partial V^* /\\partial W_t * (\\mu - r)}{\\partial^2 V^* /\\partial W_t^2 * \\sigma^2 * W_t}$$\n",
    "\n",
    "and $$c_t^* = (\\frac{\\partial V^*}{\\partial W_t})^{-1}$$\n",
    "\n",
    "This gives us the Optimal Value Function Partial Differential Equation (PDE) : (6.7), where the terms with gamma are replaced by $-log(\\frac{\\partial V^*}{\\partial W_t})$"
   ]
  },
  {
   "cell_type": "markdown",
   "metadata": {},
   "source": [
    "To solve this PDE, we use a guess solution : $V^*(t,W_t) = f(t) + log(W_t)/\\rho$\n",
    "\n",
    "Then $\\frac{\\partial V^*}{\\partial W_t} = 1/W_t*1/\\rho$ \\,\n",
    "$\\partial^2 V^* /\\partial W_t^2 = -1/W_t^2*1/\\rho$ \\\n",
    "and $\\frac{\\partial V^*}{\\partial t} = f'(t)$\n",
    "\n",
    "Substituting in the PDE we get the following ODE : \n",
    "\n",
    "$$ f'(t) = \\rho f(t) + \\nu$$\n",
    "\n",
    "We obtain $f(t) = Ke^{\\rho t} - \\nu/\\rho$\n",
    "\n",
    "With the bound f(T) = 0, we have $K = \\nu/\\rho * e^{-\\rho T}$\n",
    "\n",
    "We have deduced Merton's solution."
   ]
  },
  {
   "cell_type": "code",
   "execution_count": null,
   "metadata": {},
   "outputs": [],
   "source": []
  },
  {
   "cell_type": "markdown",
   "metadata": {},
   "source": [
    "## Question 3 : Design for an MDP"
   ]
  },
  {
   "cell_type": "markdown",
   "metadata": {},
   "source": [
    "Explanation : I consider finite horizon MDP, with T a constant being the number of days before the end of your lifetime as a worker. I consider that the objective is to maximize your earnings when you retire (no comsuption as a first approach).\n",
    "\n",
    "\n",
    "\n",
    "States $\\mathbb{S}$ : $(t,s,e,W_t)$, with $t \\in \\{0,...,T\\}$ the date, s $\\in R^+$ your skill level, e a boolean that represents whether you are employed or not and $W_t$ your earnings.\n",
    "\n",
    "Non terminal States $\\mathbb{N}$ : $ \\{(t,s,e,W_t) \\in \\mathbb(S) / t < T \\}$\n",
    "\n",
    "Terminal States $\\mathbb{T}$ : $\\{(t,s,e,W_t) \\in \\mathbb(S) / t = T\\}$\n",
    "\n",
    "Actions : $ \\alpha \\in [0,1]$, for every day the percentage of time allocated to work.\n",
    "\n",
    "Rewards : For any transition to a non terminal state, the reward is 0.\\\n",
    "When we transition to the terminal state t=T, the reward is W_T\n",
    "\n",
    "Discount factor : $\\gamma = 1$\n",
    "\n",
    "State-transition probabilities : \n",
    "$P(((t,s,e=True,W_t), \\alpha , (t+1,s+(1-\\alpha)g(s),e=True,W_t + \\alpha * f(s)) = 1-p$ \\\n",
    "$P(((t,s,e=True,W_t), \\alpha , (t+1,s+(1-\\alpha)g(s),e=False,W_t + \\alpha * f(s)) = p$ \\\n",
    "\n",
    "$P(((t,s,e=False,W_t), \\alpha , (t+1,e^{-ln(2)/\\lambda}*s,e=True,W_t ) = h(s)$ \\\n",
    "$P(((t,s,e=False,W_t), \\alpha , (t+1,e^{-ln(2)/\\lambda}*s,e=False,W_t ) = 1-h(s)$ \\"
   ]
  },
  {
   "cell_type": "code",
   "execution_count": null,
   "metadata": {},
   "outputs": [],
   "source": []
  }
 ],
 "metadata": {
  "kernelspec": {
   "display_name": "Python 3",
   "language": "python",
   "name": "python3"
  },
  "language_info": {
   "codemirror_mode": {
    "name": "ipython",
    "version": 3
   },
   "file_extension": ".py",
   "mimetype": "text/x-python",
   "name": "python",
   "nbconvert_exporter": "python",
   "pygments_lexer": "ipython3",
   "version": "3.8.3"
  }
 },
 "nbformat": 4,
 "nbformat_minor": 4
}
