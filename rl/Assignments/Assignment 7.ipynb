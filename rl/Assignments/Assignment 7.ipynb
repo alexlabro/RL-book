{
 "cells": [
  {
   "cell_type": "markdown",
   "metadata": {},
   "source": [
    "# Question 1 : Merton's portfolio for U = log\n",
    "\n",
    "#### Introduction and notations\n",
    "\n",
    "We consider the Merton's portfolio wealth $W_t$ such as $$dW_t = ((r+\\pi_t ·(\\mu−r))·W_t −ct)·dt+\\pi_t ·\\sigma·W_t ·dz_t$$\n",
    "\n",
    "We are looking to optimize $U(W_T) = log(W_T)$.\n",
    "We consider a finite horizon, with discount rate $\\rho \\geq 0$. \n",
    "\n",
    "The reward is $U(c_t)=log(c_t)$ for $t<T$ ; and the reward is $B(T)U(W_T) = \\epsilon.log(W_T)$ for t=T.\n",
    "\n",
    "We define the value function as $V_t^{\\pi,c}(W_t) = E_{\\pi,c}[\\int_t^T e^{-\\rho(s-t)}log(c_s)ds + e^{-\\rho(T-t)}B(T)log(W_T)/(t,W_t)]$\n",
    "\n",
    "We are thus trying to optimize $E_{\\pi,c}[\\int_t^T e^{-\\rho(s-t)}\\log(c_s)ds + e^{-\\rho(T-t)}B(T)\\log(W_T)/(t,W_t)]$ over $\\pi_t$ and $c_t$, for all $t \\leq T$.\n",
    "\n"
   ]
  },
  {
   "cell_type": "markdown",
   "metadata": {},
   "source": []
  }
 ],
 "metadata": {
  "kernelspec": {
   "display_name": "Python 3",
   "language": "python",
   "name": "python3"
  },
  "language_info": {
   "codemirror_mode": {
    "name": "ipython",
    "version": 3
   },
   "file_extension": ".py",
   "mimetype": "text/x-python",
   "name": "python",
   "nbconvert_exporter": "python",
   "pygments_lexer": "ipython3",
   "version": "3.8.3"
  }
 },
 "nbformat": 4,
 "nbformat_minor": 4
}
