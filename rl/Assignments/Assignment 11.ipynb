{
 "cells": [
  {
   "cell_type": "markdown",
   "metadata": {},
   "source": [
    "## Monte Carlo Prediction and Tabular"
   ]
  },
  {
   "cell_type": "code",
   "execution_count": 1,
   "metadata": {},
   "outputs": [],
   "source": [
    "import os\n",
    "os.chdir('/Users/Alex/Desktop/Documents_4A/Winter_quarter_1/MS&E_346/RL_book/')"
   ]
  },
  {
   "cell_type": "code",
   "execution_count": 2,
   "metadata": {},
   "outputs": [
    {
     "name": "stdout",
     "output_type": "stream",
     "text": [
      "{NonTerminal(state=InventoryState(on_hand=0, on_order=0)): -35.511,\n",
      " NonTerminal(state=InventoryState(on_hand=0, on_order=1)): -27.932,\n",
      " NonTerminal(state=InventoryState(on_hand=0, on_order=2)): -28.345,\n",
      " NonTerminal(state=InventoryState(on_hand=1, on_order=0)): -28.932,\n",
      " NonTerminal(state=InventoryState(on_hand=1, on_order=1)): -29.345,\n",
      " NonTerminal(state=InventoryState(on_hand=2, on_order=0)): -30.345}\n"
     ]
    }
   ],
   "source": [
    "from rl.chapter2.simple_inventory_mrp import SimpleInventoryMRPFinite\n",
    "user_capacity = 2\n",
    "user_poisson_lambda = 1.0\n",
    "user_holding_cost = 1.0\n",
    "user_stockout_cost = 10.0\n",
    "user_gamma = 0.9\n",
    "si_mrp = SimpleInventoryMRPFinite(\n",
    "    capacity=user_capacity,\n",
    "    poisson_lambda=user_poisson_lambda,\n",
    "    holding_cost=user_holding_cost,\n",
    "    stockout_cost=user_stockout_cost\n",
    ")\n",
    "si_mrp.display_value_function(gamma=user_gamma)"
   ]
  },
  {
   "cell_type": "code",
   "execution_count": 3,
   "metadata": {},
   "outputs": [
    {
     "name": "stdout",
     "output_type": "stream",
     "text": [
      "test\n",
      "{NonTerminal(state=InventoryState(on_hand=0, on_order=0)): -35.498,\n",
      " NonTerminal(state=InventoryState(on_hand=0, on_order=1)): -27.884,\n",
      " NonTerminal(state=InventoryState(on_hand=0, on_order=2)): -28.32,\n",
      " NonTerminal(state=InventoryState(on_hand=1, on_order=0)): -28.915,\n",
      " NonTerminal(state=InventoryState(on_hand=1, on_order=1)): -29.323,\n",
      " NonTerminal(state=InventoryState(on_hand=2, on_order=0)): -30.29}\n"
     ]
    }
   ],
   "source": [
    "from rl.chapter2.simple_inventory_mrp import InventoryState\n",
    "from rl.function_approx import Tabular\n",
    "from rl.approximate_dynamic_programming import ValueFunctionApprox\n",
    "from rl.distribution import Choose\n",
    "from rl.iterate import last\n",
    "from rl.monte_carlo import mc_prediction\n",
    "from itertools import islice\n",
    "from pprint import pprint\n",
    "from typing import Iterable, Iterator, TypeVar, Callable\n",
    "\n",
    "traces = si_mrp.reward_traces(Choose(si_mrp.non_terminal_states))\n",
    "\n",
    "it: Iterator[ValueFunctionApprox[InventoryState]] = mc_prediction(\n",
    "    traces=traces,\n",
    "    approx_0=Tabular(),\n",
    "    gamma=user_gamma,\n",
    "    episode_length_tolerance=1e-6\n",
    ")\n",
    "print(\"test\")\n",
    "num_traces = 1000\n",
    "last_func: ValueFunctionApprox[InventoryState] = last(islice(it, num_traces))\n",
    "    \n",
    "pprint({s: round(last_func.evaluate([s])[0], 3) for s in si_mrp.non_terminal_states})"
   ]
  },
  {
   "cell_type": "code",
   "execution_count": 17,
   "metadata": {},
   "outputs": [],
   "source": [
    "#Tabular from scratch\n",
    "\n",
    "from typing import Iterable, Tuple, Mapping, TypeVar, Iterator, Sequence\n",
    "from operator import itemgetter\n",
    "import numpy as np\n",
    "from itertools import *\n",
    "from numpy.random import randint\n",
    "from collections import defaultdict\n",
    "import itertools\n",
    "\n",
    "S = TypeVar('S')\n",
    "\n",
    "Traces = Iterable[Iterable[Tuple[S, float]]]\n",
    "\n",
    "RewardFunc = Mapping[S, float]\n",
    "ValueFunc = Mapping[S, float]\n",
    "\n",
    "def full_group_by(l, key=lambda x: x[0]):\n",
    "    d = defaultdict(list)\n",
    "    for item in l:\n",
    "        d[key(item)].append(item[1])\n",
    "    return d.items()\n",
    "\n",
    "#Function that creates a sequence of pairs (state,return) given a trace and gamma and tolerance\n",
    "\n",
    "def get_state_return_samples(trace: Iterable[Tuple[S, float]], gamma, tolerance) -> Sequence[Tuple[S, float]]:\n",
    "    l = []\n",
    "    trace = iter(trace)\n",
    "    max_steps = int(np.log(tolerance) / np.log(gamma)) if gamma < 1 else None\n",
    "    if max_steps is not None:\n",
    "        trace = list(itertools.islice(trace, int(max_steps * 2) ))\n",
    "    for i, T in enumerate(trace): #T is transition step type \n",
    "        if i < max_steps :\n",
    "            ret = sum(A.reward*(gamma**q) for q,A in enumerate(trace[i:]))\n",
    "            l.append((T.state,ret))\n",
    "    return l\n",
    "\n",
    "\n",
    "#Create a sequence of pairs (state,return) given numerous traces and gamma/tolerance, num_traces\n",
    "def multiple_state_return_samples(traces: Iterable[Iterable[Tuple[S, float]]], gamma, tolerance,num_traces) -> Sequence[Tuple[S, float]]:\n",
    "    L : Sequence[Tuple[S, float]] = []\n",
    "    for trace in itertools.islice(traces, num_traces):\n",
    "        L = L + get_state_return_samples(trace, gamma, tolerance)\n",
    "    return L\n",
    "\n",
    "\n",
    "def get_mc_value_function(state_return_samples: Sequence[Tuple[S, float]]) -> ValueFunc:\n",
    "    return {s: np.mean([r for r in l]) for s, l in full_group_by(state_return_samples)}\n",
    "\n",
    "\n"
   ]
  },
  {
   "cell_type": "code",
   "execution_count": 8,
   "metadata": {},
   "outputs": [
    {
     "data": {
      "text/plain": [
       "[('a', [1, 3, 4]), ('b', [2])]"
      ]
     },
     "execution_count": 8,
     "metadata": {},
     "output_type": "execute_result"
    }
   ],
   "source": [
    "list(full_group_by([(\"a\",1),(\"b\",2),(\"a\",3),(\"a\",4)]))"
   ]
  },
  {
   "cell_type": "code",
   "execution_count": 9,
   "metadata": {},
   "outputs": [
    {
     "name": "stdout",
     "output_type": "stream",
     "text": [
      "------------- MONTE CARLO VALUE FUNCTION --------------\n",
      "{NonTerminal(state=InventoryState(on_hand=1, on_order=0)): -28.930084305825783,\n",
      " NonTerminal(state=InventoryState(on_hand=0, on_order=2)): -28.28994123637695,\n",
      " NonTerminal(state=InventoryState(on_hand=1, on_order=1)): -29.33402768144681,\n",
      " NonTerminal(state=InventoryState(on_hand=2, on_order=0)): -30.30694891908742,\n",
      " NonTerminal(state=InventoryState(on_hand=0, on_order=1)): -27.86804449655829,\n",
      " NonTerminal(state=InventoryState(on_hand=0, on_order=0)): -35.46549741700056}\n"
     ]
    }
   ],
   "source": [
    "traces = si_mrp.reward_traces(Choose(si_mrp.non_terminal_states))\n",
    "N = 1000\n",
    "\n",
    "sr_samp = multiple_state_return_samples(traces, gamma = user_gamma, tolerance = 1e-6, num_traces = N)\n",
    "#Cannot print too many sequences\n",
    "\n",
    "mc_val = get_mc_value_function(sr_samp)\n",
    "\n",
    "print(\"------------- MONTE CARLO VALUE FUNCTION --------------\")\n",
    "pprint(mc_val)"
   ]
  },
  {
   "cell_type": "markdown",
   "metadata": {},
   "source": [
    "## TD Prediction and Tabular"
   ]
  },
  {
   "cell_type": "code",
   "execution_count": 10,
   "metadata": {},
   "outputs": [
    {
     "name": "stdout",
     "output_type": "stream",
     "text": [
      "{NonTerminal(state=InventoryState(on_hand=0, on_order=0)): -35.688,\n",
      " NonTerminal(state=InventoryState(on_hand=0, on_order=1)): -28.096,\n",
      " NonTerminal(state=InventoryState(on_hand=0, on_order=2)): -28.43,\n",
      " NonTerminal(state=InventoryState(on_hand=1, on_order=0)): -29.137,\n",
      " NonTerminal(state=InventoryState(on_hand=1, on_order=1)): -29.818,\n",
      " NonTerminal(state=InventoryState(on_hand=2, on_order=0)): -30.486}\n"
     ]
    }
   ],
   "source": [
    "import rl.iterate as iterate\n",
    "import rl.td as td\n",
    "import itertools\n",
    "from pprint import pprint\n",
    "from rl.chapter10.prediction_utils import fmrp_episodes_stream\n",
    "from rl.chapter10.prediction_utils import unit_experiences_from_episodes\n",
    "from rl.function_approx import learning_rate_schedule\n",
    "from rl.markov_process import TransitionStep\n",
    "\n",
    "episode_length: int = 100\n",
    "initial_learning_rate: float = 0.03\n",
    "half_life: float = 1000.0\n",
    "exponent: float = 0.5\n",
    "user_gamma: float = 0.9\n",
    "\n",
    "\n",
    "episodes: Iterable[Iterable[TransitionStep[S]]] = \\\n",
    "    fmrp_episodes_stream(si_mrp)\n",
    "td_experiences: Iterable[TransitionStep[S]] = \\\n",
    "    unit_experiences_from_episodes(\n",
    "        episodes,\n",
    "        episode_length)\n",
    "\n",
    "learning_rate_func: Callable[[int], float] = learning_rate_schedule(\n",
    "    initial_learning_rate=initial_learning_rate,\n",
    "    half_life=half_life,\n",
    "    exponent=exponent\n",
    ")\n",
    "    \n",
    "td_vfs: Iterator[ValueFunctionApprox[S]] = td.td_prediction(\n",
    "    transitions=td_experiences,\n",
    "    approx_0=Tabular(count_to_weight_func=learning_rate_func),\n",
    "    gamma=user_gamma\n",
    ")\n",
    "    \n",
    "    \n",
    "num_episodes = 2000\n",
    "\n",
    "final_td_vf: ValueFunctionApprox[S] = \\\n",
    "    iterate.last(itertools.islice(td_vfs, episode_length * num_episodes))\n",
    "\n",
    "pprint({s: round(final_td_vf(s), 3) for s in si_mrp.non_terminal_states})"
   ]
  },
  {
   "cell_type": "code",
   "execution_count": 11,
   "metadata": {},
   "outputs": [],
   "source": [
    "## Tabular from scratch : no terminal state\n",
    "episodes: Iterable[Iterable[TransitionStep[S]]] = fmrp_episodes_stream(si_mrp)\n",
    "    \n",
    "learning_rate_func: Callable[[int], float] = learning_rate_schedule(\n",
    "    initial_learning_rate=initial_learning_rate,\n",
    "    half_life=half_life,\n",
    "    exponent=exponent\n",
    ")\n",
    "\n",
    "def get_td_value_function(episodes, num_episodes, episode_length, learning_rate_func, gamma, mp):\n",
    "    vc : Mapping[S,float] = {s : 0. for s in mp.non_terminal_states}\n",
    "    count_lr=0\n",
    "    count_episode = 0\n",
    "    for episode in episodes : \n",
    "        if count_episode > num_episodes : \n",
    "            break\n",
    "        list_exp = itertools.islice(episode,episode_length)\n",
    "        for T in list_exp : \n",
    "            vc[T.state] = vc[T.state] + learning_rate_func(count_lr)*(T.reward + gamma*vc[T.next_state] - vc[T.state])\n",
    "            count_lr += 1\n",
    "        count_episode +=1\n",
    "    return vc"
   ]
  },
  {
   "cell_type": "code",
   "execution_count": 12,
   "metadata": {},
   "outputs": [
    {
     "name": "stdout",
     "output_type": "stream",
     "text": [
      "------------- Temporal Difference VALUE FUNCTION --------------\n",
      "{NonTerminal(state=InventoryState(on_hand=0, on_order=0)): -35.58993025913883,\n",
      " NonTerminal(state=InventoryState(on_hand=0, on_order=1)): -28.066649907079743,\n",
      " NonTerminal(state=InventoryState(on_hand=0, on_order=2)): -28.376179039859835,\n",
      " NonTerminal(state=InventoryState(on_hand=1, on_order=0)): -29.025821492496252,\n",
      " NonTerminal(state=InventoryState(on_hand=1, on_order=1)): -29.41800601312299,\n",
      " NonTerminal(state=InventoryState(on_hand=2, on_order=0)): -30.474710274239822}\n"
     ]
    }
   ],
   "source": [
    "td_val = get_td_value_function(episodes=episodes, num_episodes = 2000, episode_length=200, lr=learning_rate_func, gamma=user_gamma, mp=si_mrp)\n",
    "\n",
    "print(\"------------- Temporal Difference VALUE FUNCTION --------------\")\n",
    "pprint(td_val)"
   ]
  },
  {
   "cell_type": "code",
   "execution_count": null,
   "metadata": {},
   "outputs": [],
   "source": []
  }
 ],
 "metadata": {
  "kernelspec": {
   "display_name": "Python 3",
   "language": "python",
   "name": "python3"
  },
  "language_info": {
   "codemirror_mode": {
    "name": "ipython",
    "version": 3
   },
   "file_extension": ".py",
   "mimetype": "text/x-python",
   "name": "python",
   "nbconvert_exporter": "python",
   "pygments_lexer": "ipython3",
   "version": "3.8.3"
  }
 },
 "nbformat": 4,
 "nbformat_minor": 4
}
