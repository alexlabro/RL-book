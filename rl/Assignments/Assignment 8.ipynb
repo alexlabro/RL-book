{
 "cells": [
  {
   "cell_type": "markdown",
   "metadata": {},
   "source": [
    "## Question 1"
   ]
  },
  {
   "cell_type": "markdown",
   "metadata": {},
   "source": []
  },
  {
   "cell_type": "markdown",
   "metadata": {},
   "source": [
    "## Question 2\n",
    "\n",
    "We have $g_1(S) = E(x) - S + g_2(S)$, thus $g(S) = h(E(x) - S) + (p+h)g_1(S)$.\n",
    "\n",
    "Also $$g_2(S) = SF(S) - \\int_{-\\infty}^{S}xf(x)dx$$\n",
    "Then $g_2'(S) = F(S) + S f(S) - Sf(S) = F(S)$ , with F the cumulative distribution function associated with f.\n",
    "\n",
    "Then $g'(S) = 0$ is equivalent to $F(S) = p/(p+h)$, thus $S^* = F^{-1}(p/(p+h))$, with $F^{-1}$ the quantile function, inverse function of the cdf."
   ]
  },
  {
   "cell_type": "markdown",
   "metadata": {},
   "source": [
    "Let $x$ be the price of an European option, with strike price S and expiry time T=1. Then if the fair price of the Call option is $p$ and the fair price of the Put option is $h$; g(S) represents the average outcome of buying one of both options. This is an underlying pricing problem."
   ]
  },
  {
   "cell_type": "code",
   "execution_count": null,
   "metadata": {},
   "outputs": [],
   "source": []
  }
 ],
 "metadata": {
  "kernelspec": {
   "display_name": "Python 3",
   "language": "python",
   "name": "python3"
  },
  "language_info": {
   "codemirror_mode": {
    "name": "ipython",
    "version": 3
   },
   "file_extension": ".py",
   "mimetype": "text/x-python",
   "name": "python",
   "nbconvert_exporter": "python",
   "pygments_lexer": "ipython3",
   "version": "3.8.3"
  }
 },
 "nbformat": 4,
 "nbformat_minor": 4
}
