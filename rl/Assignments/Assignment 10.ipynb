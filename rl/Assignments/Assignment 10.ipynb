{
 "cells": [
  {
   "cell_type": "markdown",
   "metadata": {},
   "source": [
    "## Question 2 : Optimal Market Making"
   ]
  },
  {
   "cell_type": "code",
   "execution_count": 62,
   "metadata": {},
   "outputs": [],
   "source": [
    "import os\n",
    "os.chdir('/Users/Alex/Desktop/Documents_4A/Winter_quarter_1/MS&E_346/RL_book/')"
   ]
  },
  {
   "cell_type": "code",
   "execution_count": 63,
   "metadata": {},
   "outputs": [],
   "source": [
    "from rl.distribution import Bernoulli\n",
    "import numpy as np"
   ]
  },
  {
   "cell_type": "code",
   "execution_count": 68,
   "metadata": {},
   "outputs": [],
   "source": [
    "## Parameters S0 = 100, T = 1, ∆t = 0.005, γ = 0.1, σ = 2, I0 = 0, k = 1.5, c = 140 + I assume W0=0\n",
    "S0, T, delta_t, gamma, sigma,I0, k, c, W0  = (100, 1, 0.005, 0.1, 2, 0, 1.5, 140, 0)"
   ]
  },
  {
   "cell_type": "code",
   "execution_count": 71,
   "metadata": {},
   "outputs": [],
   "source": [
    "#delta_a = P_a - St\n",
    "#delta_b = St - P_b\n",
    "\n",
    "def OptimalAction(St,Wt,It,t):\n",
    "    opti_spread = gamma * (sigma**2)*(T-t) + 2*np.log(1+gamma/k)/gamma\n",
    "    opti_mid = St - It*gamma*(sigma**2)*(T-t)\n",
    "    return opti_spread, opti_mid\n",
    "\n",
    "def One_trace_opti(S0, T, delta_t, gamma, sigma,I0, k, c, W0):\n",
    "    list_spread = []\n",
    "    t = 0\n",
    "    St, Wt, It = S0, W0, I0\n",
    "    while t < T :\n",
    "        opti_spread, opti_mid = OptimalAction(St,Wt,It,t)\n",
    "        delta_a = (2*(opti_mid - St) + opti_spread)/2\n",
    "        delta_b = (opti_spread - 2*(opti_mid - St))/2\n",
    "        P_a = St + delta_a\n",
    "        P_b = St - delta_b\n",
    "        list_spread.append(opti_spread)\n",
    "        #Impact on the PnL\n",
    "        decr = Bernoulli(c*np.exp(-k*delta_a)*delta_t).sample()\n",
    "        if decr:\n",
    "            It = It-1\n",
    "            Wt = Wt + P_a\n",
    "        incr = Bernoulli(c*np.exp(-k*delta_b)*delta_t).sample()\n",
    "        if incr:\n",
    "            It = It + 1\n",
    "            Wt = Wt - P_b\n",
    "        #Change of OB Mid\n",
    "        mid = Bernoulli(0.5).sample()\n",
    "        if mid :\n",
    "            St = St + sigma*delta_t\n",
    "        else :\n",
    "            St = St - sigma*delta_t\n",
    "        t = t +delta_t\n",
    "\n",
    "    proceed = Wt+It*St \n",
    "    return proceed, list_spread"
   ]
  },
  {
   "cell_type": "code",
   "execution_count": 84,
   "metadata": {},
   "outputs": [
    {
     "name": "stdout",
     "output_type": "stream",
     "text": [
      "Average spread over the simulations :  1.491770422751422\n",
      "Average gain with the optimal strategy :  65.01167698550397\n"
     ]
    }
   ],
   "source": [
    "## Calculate the average bid-ask spread\n",
    "L_spread = []\n",
    "l_proceed = []\n",
    "N = 2000\n",
    "for i in range(N):\n",
    "    pro, l = One_trace_opti(S0, T, delta_t, gamma, sigma,I0, k, c, W0)\n",
    "    L_spread = L_spread+l\n",
    "    l_proceed.append(pro)\n",
    "avg_spread = np.mean(L)\n",
    "print(\"Average spread over the simulations : \",avg_spread)\n",
    "print(\"Average gain with the optimal strategy : \", np.mean(l_proceed))"
   ]
  },
  {
   "cell_type": "code",
   "execution_count": 85,
   "metadata": {},
   "outputs": [],
   "source": [
    "def One_trace_naiv(S0, T, delta_t, gamma, sigma,I0, k, c, W0,avg_spread):\n",
    "    t = 0\n",
    "    St, Wt, It = S0, W0, I0\n",
    "    while t < T :\n",
    "        delta = avg_spread/2\n",
    "        P_a = St + delta\n",
    "        P_b = St - delta\n",
    "        #Impact on the PnL\n",
    "        decr = Bernoulli(c*np.exp(-k*delta)*delta_t).sample()\n",
    "        if decr:\n",
    "            It = It-1\n",
    "            Wt = Wt + P_a\n",
    "        incr = Bernoulli(c*np.exp(-k*delta)*delta_t).sample()\n",
    "        if incr:\n",
    "            It = It + 1\n",
    "            Wt = Wt - P_b\n",
    "        #Change of OB Mid\n",
    "        mid = Bernoulli(0.5).sample()\n",
    "        if mid :\n",
    "            St = St + sigma*delta_t\n",
    "        else :\n",
    "            St = St - sigma*delta_t\n",
    "        t = t +delta_t\n",
    "    proceed = Wt + It*St\n",
    "    #print(\"Final Proceed : \",Wt+It*St)\n",
    "    return proceed"
   ]
  },
  {
   "cell_type": "code",
   "execution_count": 86,
   "metadata": {},
   "outputs": [
    {
     "name": "stdout",
     "output_type": "stream",
     "text": [
      "Average gain with the naive strategy :  66.58290399258722\n"
     ]
    }
   ],
   "source": [
    "for i in range(N):\n",
    "    pro = One_trace_naiv(S0, T, delta_t, gamma, sigma,I0, k, c, W0, avg_spread)\n",
    "    l_proceed.append(pro)\n",
    "print(\"Average gain with the naive strategy : \", np.mean(l_proceed))"
   ]
  },
  {
   "cell_type": "code",
   "execution_count": null,
   "metadata": {},
   "outputs": [],
   "source": []
  }
 ],
 "metadata": {
  "kernelspec": {
   "display_name": "Python 3",
   "language": "python",
   "name": "python3"
  },
  "language_info": {
   "codemirror_mode": {
    "name": "ipython",
    "version": 3
   },
   "file_extension": ".py",
   "mimetype": "text/x-python",
   "name": "python",
   "nbconvert_exporter": "python",
   "pygments_lexer": "ipython3",
   "version": "3.8.3"
  }
 },
 "nbformat": 4,
 "nbformat_minor": 4
}
