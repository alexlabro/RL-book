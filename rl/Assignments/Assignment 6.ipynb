{
 "cells": [
  {
   "cell_type": "code",
   "execution_count": 1,
   "metadata": {},
   "outputs": [],
   "source": [
    "import os\n",
    "os.chdir('/Users/Alex/Desktop/Documents_4A/Winter_quarter_1/MS&E_346/RL_book/')"
   ]
  },
  {
   "cell_type": "markdown",
   "metadata": {},
   "source": [
    "# Question 1\n",
    "$U(x) = x - \\alpha x^2/2$, with $x \\sim N(\\mu,\\sigma^2)$\n",
    "\n",
    "We are looking for $x_{CE}$ such as $E(U(x)) = U(x_{CE})$.\n",
    "\n",
    "Let solve $x - \\alpha x^2/2 = y$ : we assume that the determinant is positive and we choose the smallest root.\n",
    "\n",
    "We get $x_{CE} = \\frac{1-\\sqrt{1+\\alpha^2\\left(\\mu^2+\\sigma^2\\right)-2\\alpha\\mu}}{\\alpha}$\n",
    "\n",
    "Then $\\pi_A = \\mu - x_{CE}$\n",
    "\n",
    "#### Portfolio Application\n",
    "\n",
    "Let I = 1,000,000 be our initial investment\n",
    "After 1 year $W = z(1 + x) + (I - z)(1+r)$, so we get that $$W \\sim N[I(1+r) + z(\\mu - r), z^2\\sigma^2]$$\n",
    "\n",
    "We know that maximizing U(W) is equivalent to maximizing $x_{CE}$, which here is given by :\n",
    "$$ \\frac{1-\\sqrt{1+\\alpha^2\\left((I(1+r) + z(\\mu - r))^2+(z^2\\sigma^2)^2\\right)-2\\alpha*(I(1+r) + z(\\mu - r))}}{\\alpha} $$\n",
    "\n",
    "To determine the optimal value $z^*$, we set to 0 the derivative of this expression with regards to z."
   ]
  },
  {
   "cell_type": "code",
   "execution_count": null,
   "metadata": {},
   "outputs": [],
   "source": []
  },
  {
   "cell_type": "markdown",
   "metadata": {},
   "source": [
    "# Question 3\n",
    "\n",
    "After a single bet of $fW_0$ the wealth will be $W_1 = (1-f)W_0 + fW_0(1+\\alpha)$ with probability p \\\n",
    "and $W_1 = (1-f)W_0 + fW_0(1-\\beta)$ with probability q = 1-p\n",
    "\n",
    "$$\\begin{cases}\n",
    "  U(W_1) = \\log{(1-f)W_0 + fW_0(1+\\alpha)} & \\text{with probability } p \\\\    \n",
    "  U(W_l) = \\log{(1-f)W_0 + fW_0(1-\\beta)} & \\text{with probability } q = 1 - p\\\\\n",
    "\\end{cases}$$\n",
    "\n",
    "Then $E[U(W)] = p\\log{W_0(1+f\\alpha)} + q\\log{W_0(1-f\\beta)}$\n",
    "\n",
    "We take the derivative with regards to f and we get that $f^* = \\frac{p\\alpha - q\\beta}{\\alpha\\beta}$\\\n",
    "This is a maximum because $\\frac{\\partial^2E}{\\partial f^2} \\leq 0$\n",
    "\n",
    "This makes intuitive sense because when the possible gain $\\alpha$ or the probability of sucess $p$ increases, we bet more, and vice-versa."
   ]
  },
  {
   "cell_type": "code",
   "execution_count": null,
   "metadata": {},
   "outputs": [],
   "source": []
  }
 ],
 "metadata": {
  "kernelspec": {
   "display_name": "Python 3",
   "language": "python",
   "name": "python3"
  },
  "language_info": {
   "codemirror_mode": {
    "name": "ipython",
    "version": 3
   },
   "file_extension": ".py",
   "mimetype": "text/x-python",
   "name": "python",
   "nbconvert_exporter": "python",
   "pygments_lexer": "ipython3",
   "version": "3.8.3"
  }
 },
 "nbformat": 4,
 "nbformat_minor": 4
}
