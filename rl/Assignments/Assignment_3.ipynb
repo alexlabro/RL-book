{
 "cells": [
  {
   "cell_type": "markdown",
   "metadata": {},
   "source": [
    "## Question 1 : MDP Deterministic Policy Bellman Equations"
   ]
  },
  {
   "cell_type": "markdown",
   "metadata": {},
   "source": [
    "For a deterministic policy we get :\n",
    " - Value function in terms of Action-Value Function : $V^{\\pi_D}(s) = Q^{\\pi_D}(s, \\pi_D(s))$\n",
    " - Action Value Function in terms of Value function : $Q^{\\pi_D}(s, \\pi_D(s)) = R(s,\\pi_D(s)) + \\gamma*\\sum P(s,\\pi_D(s),s').V^{\\pi_D}(s')$\n",
    " \n",
    " - Value function recurrence : $V^{\\pi_D}(s) = R(s,\\pi_D(s)) + \\gamma.\\sum P(s,\\pi_D(s),s').V^{\\pi_D}(s')$\n",
    " \n",
    " - Action Value function recurrence : $Q^{\\pi_D}(s, \\pi_D(s)) = R(s,\\pi_D(s)) + \\gamma.\\sum P(s,\\pi_D(s),s').Q^{\\pi_D}(s',\\pi_D(s'))$"
   ]
  },
  {
   "cell_type": "code",
   "execution_count": null,
   "metadata": {},
   "outputs": [],
   "source": []
  }
 ],
 "metadata": {
  "kernelspec": {
   "display_name": "Python 3",
   "language": "python",
   "name": "python3"
  },
  "language_info": {
   "codemirror_mode": {
    "name": "ipython",
    "version": 3
   },
   "file_extension": ".py",
   "mimetype": "text/x-python",
   "name": "python",
   "nbconvert_exporter": "python",
   "pygments_lexer": "ipython3",
   "version": "3.8.3"
  }
 },
 "nbformat": 4,
 "nbformat_minor": 4
}
