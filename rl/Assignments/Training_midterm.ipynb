{
 "cells": [
  {
   "cell_type": "markdown",
   "metadata": {},
   "source": [
    "## 2021 Midterm"
   ]
  },
  {
   "cell_type": "code",
   "execution_count": 1,
   "metadata": {},
   "outputs": [],
   "source": [
    "import os\n",
    "os.chdir('/Users/Alex/Desktop/Documents_4A/Winter_quarter_1/MS&E_346/RL_book/')"
   ]
  },
  {
   "cell_type": "code",
   "execution_count": 2,
   "metadata": {},
   "outputs": [],
   "source": [
    "from rl.markov_process import *\n",
    "from rl.markov_decision_process import *\n",
    "from typing import Mapping\n",
    "from rl.distribution import Distribution, FiniteDistribution"
   ]
  },
  {
   "cell_type": "code",
   "execution_count": 5,
   "metadata": {},
   "outputs": [],
   "source": [
    "from dataclasses import dataclass\n",
    "from typing import Mapping, Dict\n",
    "from rl.distribution import Categorical, FiniteDistribution\n",
    "from scipy.stats import poisson\n",
    "\n",
    "\n",
    "@dataclass(frozen = True)\n",
    "class Wage:\n",
    "    hourly_wage : int\n",
    "    def position(self) -> int:\n",
    "        return self.hourly_wage"
   ]
  },
  {
   "cell_type": "code",
   "execution_count": 4,
   "metadata": {},
   "outputs": [],
   "source": [
    "#Parameters\n",
    "H = 10\n",
    "W = 30\n",
    "alpha = 0.08\n",
    "beta = 0.82\n",
    "gamma = 0.95"
   ]
  },
  {
   "cell_type": "code",
   "execution_count": null,
   "metadata": {},
   "outputs": [],
   "source": [
    "class CareerMDPF(FiniteMarkovDecisionProcess[Wage, Tuple(int,int)]): #the tuple of int represents the daily actions\n",
    "    def __init__(\n",
    "        self,\n",
    "        init_wage : int,\n",
    "        rew : float): #The reward is the number of throw\n",
    "        self.init_wage :int = init_wage\n",
    "        self.rew :float = rew\n",
    "        super().__init__(self.get_action_transition_reward_map())\n",
    "        \n",
    "        def def get_action_transition_reward_map(self) -> \\\n",
    "            Mapping[Wage, Mapping[Tuple(int,int), Categorical[Tuple[Wage,float]]]]: #float is the reward : we map a wage to a map of actions and transitions/reward\n",
    "        d : Dict[Wage, Dict[Tuple(int,int), Categorical[Tuple[Wage,float]]]] = {}\n",
    "        for w in range(1,W+1):\n",
    "            d1: Dict[Tuple(int,int), Categorical[Tuple[Wage, float]]] = {}\n",
    "            for l in range(0,H+1):\n",
    "                for s in range(0,H+1-l):\n",
    "                    sr_probs_dict = {} # This is the categorical ie the probabilities\n",
    "                    pd = poisson(alpha * s)\n",
    "                    reward = (H - l - s)*w\n",
    "                    ..."
   ]
  }
 ],
 "metadata": {
  "kernelspec": {
   "display_name": "Python 3",
   "language": "python",
   "name": "python3"
  },
  "language_info": {
   "codemirror_mode": {
    "name": "ipython",
    "version": 3
   },
   "file_extension": ".py",
   "mimetype": "text/x-python",
   "name": "python",
   "nbconvert_exporter": "python",
   "pygments_lexer": "ipython3",
   "version": "3.8.3"
  }
 },
 "nbformat": 4,
 "nbformat_minor": 4
}
